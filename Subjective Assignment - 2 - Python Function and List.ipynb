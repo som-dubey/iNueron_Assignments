{
 "cells": [
  {
   "cell_type": "markdown",
   "metadata": {},
   "source": [
    "# Assignments"
   ]
  },
  {
   "cell_type": "markdown",
   "metadata": {},
   "source": [
    "Q1. Write the Python function to get a string made of 4 copies of the last\n",
    "two characters of the specified string (length must be at least 2).\n",
    "\n",
    "    Sample function and result :\n",
    "    insert-end ('Python') -> abababab\n",
    "    insert-end('Exercises') -> jkjkjkjk"
   ]
  },
  {
   "cell_type": "code",
   "execution_count": 1,
   "metadata": {
    "ExecuteTime": {
     "end_time": "2020-04-02T00:06:20.385288Z",
     "start_time": "2020-04-02T00:06:20.376249Z"
    }
   },
   "outputs": [
    {
     "name": "stdout",
     "output_type": "stream",
     "text": [
      "onononon\n",
      "mDmDmDmD\n"
     ]
    }
   ],
   "source": [
    "def question_1(string):\n",
    "    if len(string) >= 2:\n",
    "        last_two = string[-2:]\n",
    "        return print(last_two*4)\n",
    "output = question_1('python')\n",
    "output = question_1('SomD')"
   ]
  },
  {
   "cell_type": "code",
   "execution_count": null,
   "metadata": {},
   "outputs": [],
   "source": []
  },
  {
   "cell_type": "markdown",
   "metadata": {},
   "source": [
    "Q2. Write the python function to get a string made of its first three\n",
    "characters of a specified string. If the length of the string is less than 3\n",
    "then return the original string.\n",
    "    \n",
    "    Sample function and result :\n",
    "    first-three('ipy') -> ipy\n",
    "    first-three('python') -> pyt"
   ]
  },
  {
   "cell_type": "code",
   "execution_count": 2,
   "metadata": {
    "ExecuteTime": {
     "end_time": "2020-04-02T00:06:20.407254Z",
     "start_time": "2020-04-02T00:06:20.388287Z"
    }
   },
   "outputs": [
    {
     "name": "stdout",
     "output_type": "stream",
     "text": [
      "iNu\n",
      "So\n"
     ]
    }
   ],
   "source": [
    "def question_2(string):\n",
    "    if len(string) < 3:\n",
    "        return print(string)\n",
    "    else:\n",
    "        first_three = string[:3]\n",
    "        return print(first_three)\n",
    "output = question_2('iNueron')\n",
    "output = question_2('So')"
   ]
  },
  {
   "cell_type": "code",
   "execution_count": null,
   "metadata": {},
   "outputs": [],
   "source": []
  },
  {
   "cell_type": "markdown",
   "metadata": {},
   "source": [
    "Q3. Write the Python program to find smallest window that contains all\n",
    "characters of the given string?\n",
    "\n",
    "    Original Strings:\n",
    "    asdaewsqgtwwsa\n",
    "    Smallest window that contains all characters of the said string:\n",
    "    Daewsqgt"
   ]
  },
  {
   "cell_type": "code",
   "execution_count": 3,
   "metadata": {
    "ExecuteTime": {
     "end_time": "2020-04-02T00:06:20.429256Z",
     "start_time": "2020-04-02T00:06:20.410250Z"
    }
   },
   "outputs": [
    {
     "data": {
      "text/plain": [
       "'daewsqgt'"
      ]
     },
     "execution_count": 3,
     "metadata": {},
     "output_type": "execute_result"
    }
   ],
   "source": [
    "def question_3(string):\n",
    "    b = []\n",
    "    a = set([x for x in string])\n",
    "#     print('a is', a)\n",
    "    for i in range(len(string)):\n",
    "        for j in range(i, len(string)):\n",
    "            y = string[j:]\n",
    "#             print('y is',y)\n",
    "            if a == set(x for x in y):\n",
    "                b.append(y)\n",
    "    b = b[-1]\n",
    "    abd = ''\n",
    "    for i in b:\n",
    "        if i not in abd:\n",
    "            abd = abd + i\n",
    "    return abd\n",
    "    \n",
    "            \n",
    "                   \n",
    "output = question_3('asdaewsqgtwwsa')\n",
    "output"
   ]
  },
  {
   "cell_type": "code",
   "execution_count": null,
   "metadata": {},
   "outputs": [],
   "source": []
  },
  {
   "cell_type": "markdown",
   "metadata": {},
   "source": [
    "Q4. Write the Python program to count number of substrings from a\n",
    "given string of lowercase alphabets with exactly k distinct (given)\n",
    "characters?\n",
    "\n",
    "    Input a string (lowercase alphabets): wolf\n",
    "    Input k: 4\n",
    "    Number of substrings with exactly 4 distinct characters: 1"
   ]
  },
  {
   "cell_type": "code",
   "execution_count": null,
   "metadata": {},
   "outputs": [],
   "source": []
  },
  {
   "cell_type": "markdown",
   "metadata": {},
   "source": [
    "Q5. Write the Python program to count number of non-empty\n",
    "substrings of the given string?\n",
    "\n",
    "    Input a string: w3resource\n",
    "    Number of substrings:\n",
    "    55"
   ]
  },
  {
   "cell_type": "code",
   "execution_count": 4,
   "metadata": {
    "ExecuteTime": {
     "end_time": "2020-04-02T00:06:20.441287Z",
     "start_time": "2020-04-02T00:06:20.431249Z"
    }
   },
   "outputs": [
    {
     "data": {
      "text/plain": [
       "120"
      ]
     },
     "execution_count": 4,
     "metadata": {},
     "output_type": "execute_result"
    }
   ],
   "source": [
    "def question_5(input): \n",
    "    str_len = len(input); \n",
    "    return int(str_len * (str_len + 1) / 2)\n",
    "\n",
    "output = question_5('iNueron is best')\n",
    "output"
   ]
  },
  {
   "cell_type": "code",
   "execution_count": null,
   "metadata": {},
   "outputs": [],
   "source": []
  },
  {
   "cell_type": "markdown",
   "metadata": {},
   "source": [
    "Q6. Write the Python program to count the number of strings where the\n",
    "string length is 2 or more, and first and last character are same\n",
    "from a given list of strings.\n",
    "\n",
    "    Sample List : ['abc', 'xyz', 'wxw', '1331']\n",
    "    Expected Result: 2"
   ]
  },
  {
   "cell_type": "code",
   "execution_count": 5,
   "metadata": {
    "ExecuteTime": {
     "end_time": "2020-04-02T00:06:30.222294Z",
     "start_time": "2020-04-02T00:06:20.443254Z"
    },
    "scrolled": true
   },
   "outputs": [
    {
     "name": "stdout",
     "output_type": "stream",
     "text": [
      "papparazzi\n",
      "the str_len is 10\n"
     ]
    },
    {
     "data": {
      "text/plain": [
       "17"
      ]
     },
     "execution_count": 5,
     "metadata": {},
     "output_type": "execute_result"
    }
   ],
   "source": [
    "#input = papparazzi\n",
    "def question_6(input_string):\n",
    "    str_len = len(input_string)\n",
    "    print('the str_len is', str_len)\n",
    "    output_value = 0\n",
    "    \n",
    "    for i in range(str_len):\n",
    "#         print('the i is', i)\n",
    "        for j in range(i, str_len):\n",
    "#             print('\\n')\n",
    "#             print('the j is', j)\n",
    "#             print('\\n')\n",
    "            if input_string[i] == input_string[j]:\n",
    "#                 print(input_string[i])\n",
    "#                 print(input_string[j])\n",
    "                output_value   = output_value + 1\n",
    "#                 print('the output value in inner loop is', output_value)\n",
    "    \n",
    "    return output_value\n",
    "    \n",
    "\n",
    "input_str = input(str())\n",
    "output = question_6(input_str)\n",
    "output"
   ]
  },
  {
   "cell_type": "markdown",
   "metadata": {},
   "source": [
    "Q7. Write the Python program to get a list, sorted in increasing order by\n",
    "the last element in each tuple from the given list of non-empty\n",
    "tuples?\n",
    "\n",
    "    Sample List - [ (2, 5), (1, 2), (4, 4), (2, 3), (2, 1) ]\n",
    "    Expected Result - [ (2, 1), (1, 2), (2, 3), (4, 4), (2, 5) ]"
   ]
  },
  {
   "cell_type": "code",
   "execution_count": 6,
   "metadata": {
    "ExecuteTime": {
     "end_time": "2020-04-02T00:06:30.232233Z",
     "start_time": "2020-04-02T00:06:30.225258Z"
    }
   },
   "outputs": [
    {
     "data": {
      "text/plain": [
       "[(2, 1), (1, 2), (2, 3), (4, 4), (2, 5)]"
      ]
     },
     "execution_count": 6,
     "metadata": {},
     "output_type": "execute_result"
    }
   ],
   "source": [
    "a = [(2, 5), (1, 2), (4, 4), (2, 3), (2, 1)]\n",
    "sorted(a, key=lambda x: x[1])"
   ]
  },
  {
   "cell_type": "code",
   "execution_count": null,
   "metadata": {},
   "outputs": [],
   "source": []
  },
  {
   "cell_type": "markdown",
   "metadata": {},
   "source": [
    "Q8. Write the Python program to remove duplicates from a list?"
   ]
  },
  {
   "cell_type": "code",
   "execution_count": 7,
   "metadata": {
    "ExecuteTime": {
     "end_time": "2020-04-02T00:06:30.254260Z",
     "start_time": "2020-04-02T00:06:30.235223Z"
    }
   },
   "outputs": [
    {
     "data": {
      "text/plain": [
       "[1, 2, 3, 4, 5, 6, 67, 8, 9]"
      ]
     },
     "execution_count": 7,
     "metadata": {},
     "output_type": "execute_result"
    }
   ],
   "source": [
    "def question_8(input_list):\n",
    "    input_list = list(set(input_list))\n",
    "    return input_list\n",
    "\n",
    "req_output = question_8([1,2,3,4,5,6,5,4,3,2,3,4,5,6,3,3,4,5,1,2,3,4,5,67,8,9,])\n",
    "req_output"
   ]
  },
  {
   "cell_type": "code",
   "execution_count": null,
   "metadata": {},
   "outputs": [],
   "source": []
  },
  {
   "cell_type": "markdown",
   "metadata": {},
   "source": [
    "Q9. Write the Python program to find the list of words that are longer\n",
    "than n from a given list of words?"
   ]
  },
  {
   "cell_type": "code",
   "execution_count": 8,
   "metadata": {
    "ExecuteTime": {
     "end_time": "2020-04-02T00:06:30.267258Z",
     "start_time": "2020-04-02T00:06:30.256359Z"
    }
   },
   "outputs": [
    {
     "data": {
      "text/plain": [
       "[]"
      ]
     },
     "execution_count": 8,
     "metadata": {},
     "output_type": "execute_result"
    }
   ],
   "source": [
    "input_list = ['cat', 'dog', 'mouse', 'horse', 'lion', 'tiger', 'cow', 'donkey']\n",
    "\n",
    "def question_9(input_list, n):\n",
    "    output = [x for x in input_list if len(x) > n]\n",
    "    return output\n",
    "req_output = question_9(a, 4)\n",
    "req_output"
   ]
  },
  {
   "cell_type": "code",
   "execution_count": null,
   "metadata": {},
   "outputs": [],
   "source": []
  },
  {
   "cell_type": "markdown",
   "metadata": {},
   "source": [
    "Q10. Write the Python program to print a specified list after removing the\n",
    "0th, 4th, and 5th elements?\n",
    "    \n",
    "    Sample List - ['Red', 'Green', 'White', 'Black', 'Pink', 'Yellow']\n",
    "    Expected Output - ['Green', 'White', 'Black']"
   ]
  },
  {
   "cell_type": "markdown",
   "metadata": {},
   "source": [
    "#### using list comprehension"
   ]
  },
  {
   "cell_type": "code",
   "execution_count": 9,
   "metadata": {
    "ExecuteTime": {
     "end_time": "2020-04-02T00:06:30.282259Z",
     "start_time": "2020-04-02T00:06:30.269226Z"
    }
   },
   "outputs": [
    {
     "data": {
      "text/plain": [
       "['Green', 'White', 'Black']"
      ]
     },
     "execution_count": 9,
     "metadata": {},
     "output_type": "execute_result"
    }
   ],
   "source": [
    "a = ['Red', 'Green', 'White', 'Black', 'Pink', 'Yellow']\n",
    "def question_10(input_list, n):\n",
    "    output = [x for count,x in enumerate(input_list) if count not in n]\n",
    "    return output\n",
    "\n",
    "req_output = question_10(a, [0,4,5])\n",
    "req_output"
   ]
  },
  {
   "cell_type": "markdown",
   "metadata": {},
   "source": [
    "#### using normal for loop"
   ]
  },
  {
   "cell_type": "code",
   "execution_count": 10,
   "metadata": {
    "ExecuteTime": {
     "end_time": "2020-04-02T00:06:30.296353Z",
     "start_time": "2020-04-02T00:06:30.284219Z"
    }
   },
   "outputs": [
    {
     "data": {
      "text/plain": [
       "['Green', 'White', 'Black']"
      ]
     },
     "execution_count": 10,
     "metadata": {},
     "output_type": "execute_result"
    }
   ],
   "source": [
    "a = ['Red', 'Green', 'White', 'Black', 'Pink', 'Yellow']\n",
    "b = []\n",
    "def question_10(input_list, n):\n",
    "    for count,i in enumerate(input_list):\n",
    "        if count not in n:\n",
    "            b.append(i)            \n",
    "\n",
    "req_output = question_10(a, [0,4,5])\n",
    "b"
   ]
  },
  {
   "cell_type": "code",
   "execution_count": null,
   "metadata": {},
   "outputs": [],
   "source": []
  },
  {
   "cell_type": "markdown",
   "metadata": {},
   "source": [
    "Q11. Write the Python program to generate all permutations of a list in\n",
    "Python?"
   ]
  },
  {
   "cell_type": "code",
   "execution_count": 11,
   "metadata": {
    "ExecuteTime": {
     "end_time": "2020-04-02T00:06:30.307226Z",
     "start_time": "2020-04-02T00:06:30.299220Z"
    }
   },
   "outputs": [
    {
     "name": "stdout",
     "output_type": "stream",
     "text": [
      "[('Red', 'Green'), ('Red', 'White'), ('Green', 'Red'), ('Green', 'White'), ('White', 'Red'), ('White', 'Green')]\n"
     ]
    }
   ],
   "source": [
    "from itertools import permutations    \n",
    "a = ['Red', 'Green', 'White']\n",
    "print (list(permutations(a, 2)))"
   ]
  },
  {
   "cell_type": "code",
   "execution_count": null,
   "metadata": {},
   "outputs": [],
   "source": []
  },
  {
   "cell_type": "markdown",
   "metadata": {},
   "source": [
    "Q12. Write the Python program to convert a pair of values into a sorted\n",
    "unique array?\n",
    " \n",
    "    Original List- [ (1, 2), (3, 4), (1, 2), (5, 6), (7, 8), (1, 2), (3, 4), (3, 4), (7, 8), (9, 10) ]\n",
    "    Sorted Unique Data- [ 1, 2, 3, 4, 5, 6, 7, 8, 9, 10 ] \n"
   ]
  },
  {
   "cell_type": "code",
   "execution_count": 12,
   "metadata": {
    "ExecuteTime": {
     "end_time": "2020-04-02T00:06:30.322221Z",
     "start_time": "2020-04-02T00:06:30.309302Z"
    }
   },
   "outputs": [
    {
     "data": {
      "text/plain": [
       "[1, 2, 3, 4, 5, 6, 7, 8, 9, 10]"
      ]
     },
     "execution_count": 12,
     "metadata": {},
     "output_type": "execute_result"
    }
   ],
   "source": [
    "a = []\n",
    "def question_12(input_list):\n",
    "    input_list = list(set(input_list))\n",
    "    for item in input_list:\n",
    "        a.append(item[0])\n",
    "        a.append(item[1])\n",
    "\n",
    "req_output = question_12([ (1, 2), (3, 4), (1, 2), (5, 6), (7, 8), (1, 2), (3, 4), (3, 4), (7, 8), (9, 10)])\n",
    "a = sorted(a)\n",
    "a"
   ]
  },
  {
   "cell_type": "markdown",
   "metadata": {},
   "source": [
    "## Great job!"
   ]
  }
 ],
 "metadata": {
  "hide_input": false,
  "kernelspec": {
   "display_name": "Python 3",
   "language": "python",
   "name": "python3"
  },
  "language_info": {
   "codemirror_mode": {
    "name": "ipython",
    "version": 3
   },
   "file_extension": ".py",
   "mimetype": "text/x-python",
   "name": "python",
   "nbconvert_exporter": "python",
   "pygments_lexer": "ipython3",
   "version": "3.6.10"
  }
 },
 "nbformat": 4,
 "nbformat_minor": 2
}
