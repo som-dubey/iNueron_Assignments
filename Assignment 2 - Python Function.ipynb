{
 "cells": [
  {
   "cell_type": "markdown",
   "metadata": {},
   "source": [
    "## Problem Statement"
   ]
  },
  {
   "cell_type": "markdown",
   "metadata": {},
   "source": [
    "Q.1 Write a Python Program to implement your own myreduce() function which works exactly like\n",
    "Python's built-in function reduce()\n"
   ]
  },
  {
   "cell_type": "code",
   "execution_count": 85,
   "metadata": {
    "ExecuteTime": {
     "end_time": "2020-04-02T06:09:05.336200Z",
     "start_time": "2020-04-02T06:09:05.326697Z"
    }
   },
   "outputs": [
    {
     "data": {
      "text/plain": [
       "180"
      ]
     },
     "execution_count": 85,
     "metadata": {},
     "output_type": "execute_result"
    }
   ],
   "source": [
    "input_lst = [1 , 3, 5, 6, 2]\n",
    "def myreduce(input_list, operator):\n",
    "    \n",
    "    if (operator == 'add') | (operator == 'sum'):\n",
    "        output = 0\n",
    "        for i in range(len(input_list)):\n",
    "            output = output + input_list[i]\n",
    "            \n",
    "    \n",
    "    if (operator == 'multiply') | (operator == 'product'):\n",
    "        output = 1\n",
    "        for i in range(len(input_list)):\n",
    "            output = output * input_list[i]\n",
    "            \n",
    "    return output\n",
    "req_output = myreduce(input_lst, 'product')\n",
    "req_output"
   ]
  },
  {
   "cell_type": "markdown",
   "metadata": {},
   "source": [
    "Q.2 Write a Python program to implement your own myfilter() function which works exactly like\n",
    "Python's built-in function filter()"
   ]
  },
  {
   "cell_type": "code",
   "execution_count": 87,
   "metadata": {
    "ExecuteTime": {
     "end_time": "2020-04-02T06:17:09.766508Z",
     "start_time": "2020-04-02T06:17:09.758389Z"
    }
   },
   "outputs": [
    {
     "name": "stdout",
     "output_type": "stream",
     "text": [
      "Filter only positive Integers on list [0,1,-2,3,4,5] using custom filter function[1, 3, 4, 5]\n"
     ]
    }
   ],
   "source": [
    "def myfilter(function, input_list):\n",
    "    output = []\n",
    "    for item in input_list:\n",
    "        if function(item):\n",
    "            output.append(item) \n",
    "    return output\n",
    "\n",
    "# testing\n",
    "def is_positive(x):\n",
    "    if (x <= 0): \n",
    "        return False \n",
    "    \n",
    "    else: \n",
    "        return True\n",
    "    \n",
    "print (\"Filter only positive Integers on list [0,1,-2,3,4,5] using custom filter function\"\\\n",
    "       + str(myfilter(is_positive, [0,1,-2,3,4,5])))"
   ]
  },
  {
   "cell_type": "code",
   "execution_count": null,
   "metadata": {},
   "outputs": [],
   "source": []
  },
  {
   "cell_type": "markdown",
   "metadata": {},
   "source": [
    "Q.3 Implement List comprehensions to produce the following lists.\n",
    "   Write List comprehensions to produce the following Lists\n",
    "   \n",
    "    ['A', 'C', 'A', 'D', 'G', 'I', ’L’, ‘ D’]\n",
    "   \n",
    "    ['x', 'xx', 'xxx', 'xxxx', 'y', 'yy', 'yyy', 'yyyy', 'z', 'zz', 'zzz', 'zzzz']\n",
    "\n",
    "    ['x', 'y', 'z', 'xx', 'yy', 'zz', 'xx', 'yy', 'zz', 'xxxx', 'yyyy', 'zzzz']\n",
    "    \n",
    "    [[2], [3], [4], [3], [4], [5], [4], [5], [6]]\n",
    "\n",
    "    [[2, 3, 4, 5], [3, 4, 5, 6], [4, 5, 6, 7], [5, 6, 7, 8]]\n",
    "\n",
    "    [(1, 1), (2, 1), (3, 1), (1, 2), (2, 2), (3, 2), (1, 3), (2, 3), (3, 3)]"
   ]
  },
  {
   "cell_type": "code",
   "execution_count": 15,
   "metadata": {
    "ExecuteTime": {
     "end_time": "2020-04-02T01:08:24.046900Z",
     "start_time": "2020-04-02T01:08:24.039940Z"
    }
   },
   "outputs": [],
   "source": [
    "a = 'ACADGILD'\n",
    "b = 'xyz'\n",
    "c = [2,3,4,5,6]\n",
    "d = [2,3,4,5,6,7,8]\n",
    "e = [[1,2,3], [1,2,3]]"
   ]
  },
  {
   "cell_type": "code",
   "execution_count": 64,
   "metadata": {
    "ExecuteTime": {
     "end_time": "2020-04-02T04:39:31.640470Z",
     "start_time": "2020-04-02T04:39:31.619465Z"
    }
   },
   "outputs": [
    {
     "name": "stdout",
     "output_type": "stream",
     "text": [
      "['A', 'C', 'A', 'D', 'G', 'I', 'L', 'D']\n",
      "\n",
      "\n",
      "['x', 'xx', 'xxx', 'xxxx', 'y', 'yy', 'yyy', 'yyyy', 'z', 'zz', 'zzz', 'zzzz']\n",
      "\n",
      "\n",
      "['x', 'y', 'z', 'xx', 'yy', 'zz', 'xxx', 'yyy', 'zzz', 'xxxx', 'yyyy', 'zzzz']\n",
      "\n",
      "\n",
      "[[2], [3], [4], [3], [4], [5], [4], [5], [6]]\n",
      "\n",
      "\n",
      "[[2, 3, 4, 5], [3, 4, 5, 6], [4, 5, 6, 7], [5, 6, 7, 8]]\n",
      "\n",
      "\n"
     ]
    },
    {
     "data": {
      "text/plain": [
       "[(1, 1), (2, 1), (3, 1), (2, 2), (3, 2), (3, 3)]"
      ]
     },
     "execution_count": 64,
     "metadata": {},
     "output_type": "execute_result"
    }
   ],
   "source": [
    "print([x for x in a])\n",
    "print('\\n')\n",
    "\n",
    "\n",
    "a_list = []\n",
    "for i in b:\n",
    "    for j in range(1,5):\n",
    "        a_list.append(i*j)\n",
    "print(a_list)\n",
    "print('\\n')    \n",
    "\n",
    "\n",
    "b_list = []\n",
    "for i in range(1,5):\n",
    "    for j in b:\n",
    "        b_list.append(j*i)\n",
    "print(b_list)\n",
    "print('\\n') \n",
    "\n",
    "c_list = []\n",
    "n = 0\n",
    "for i in range(3):\n",
    "#     print(i)\n",
    "    c_list.extend([[c[n]]])\n",
    "#     print(c[n])\n",
    "    c_list.extend([[c[n+1]]])\n",
    "#     print(c[n+1])\n",
    "    c_list.extend([[c[n+2]]])\n",
    "    n+=1\n",
    "print(c_list)\n",
    "print('\\n') \n",
    "\n",
    "\n",
    "d_list = []\n",
    "n = 0\n",
    "for i in range(4):\n",
    "#     print(i)\n",
    "    d_list.extend([[d[n], c[n+1], d[n+2], d[n+3]]])\n",
    "# #     print(c[n])\n",
    "#     d_list.extend([[c[n+1]]])\n",
    "# #     print(c[n+1])\n",
    "#     d_list.extend([[c[n+2]]])\n",
    "    n+=1\n",
    "print(d_list)\n",
    "print('\\n')\n",
    "\n",
    "\n",
    "e_list = []\n",
    "list1 = [1, 2, 3] \n",
    "list2 = [1, 2, 3] \n",
    "    \n",
    "for i in range(3):\n",
    "    for j in range(i,3):\n",
    "        e_list.append((list2[j], list1[i]))\n",
    "\n",
    "e_list "
   ]
  },
  {
   "cell_type": "code",
   "execution_count": null,
   "metadata": {},
   "outputs": [],
   "source": []
  },
  {
   "cell_type": "markdown",
   "metadata": {},
   "source": [
    "Q.4 Implement a function longestWord() that takes a list of words and returns the longest one."
   ]
  },
  {
   "cell_type": "code",
   "execution_count": 67,
   "metadata": {
    "ExecuteTime": {
     "end_time": "2020-04-02T04:52:13.627064Z",
     "start_time": "2020-04-02T04:52:13.618031Z"
    }
   },
   "outputs": [
    {
     "name": "stdout",
     "output_type": "stream",
     "text": [
      "the longest word in the given list is iNueron_Is_Best\n"
     ]
    },
    {
     "data": {
      "text/plain": [
       "15"
      ]
     },
     "execution_count": 67,
     "metadata": {},
     "output_type": "execute_result"
    }
   ],
   "source": [
    "def longestWord(input_list, n):\n",
    "    output = [x for x in input_list if len(x) > n]\n",
    "    output = sorted(output)\n",
    "    print('the longest word in the given list is {}'.format(output[-1]))\n",
    "    output = len(output[-1])\n",
    "    return output\n",
    "\n",
    "req_output = longestWord(['Som', 'Sachin', 'Ramesh', 'Tendulkar', 'Tom', 'Hanks', 'iNueron_Is_Best'], 3)\n",
    "req_output"
   ]
  },
  {
   "cell_type": "code",
   "execution_count": null,
   "metadata": {},
   "outputs": [],
   "source": []
  },
  {
   "cell_type": "markdown",
   "metadata": {},
   "source": [
    "Q.5 Write a Python Program(with class concepts) to find the area of the triangle using the below\n",
    "formula.\n",
    "\n",
    "area = (s*(s-a)*(s-b)*(s-c)) ** 0.5\n",
    "\n",
    "Function to take the length of the sides of triangle from user should be defined in the parent\n",
    "class and function to calculate the area should be defined in subclass."
   ]
  },
  {
   "cell_type": "code",
   "execution_count": 76,
   "metadata": {
    "ExecuteTime": {
     "end_time": "2020-04-02T04:55:18.944354Z",
     "start_time": "2020-04-02T04:55:18.934327Z"
    }
   },
   "outputs": [
    {
     "name": "stdout",
     "output_type": "stream",
     "text": [
      "5.333\n"
     ]
    }
   ],
   "source": [
    "class Polygon:\n",
    "    def __init__(self, n):\n",
    "        self.number_of_sides = n\n",
    "\n",
    "    def print_num_sides(self):\n",
    "        '''a quick, informational print statement'''\n",
    "        print('There are ' + str(self.number_of_sides) + ' sides.')\n",
    "        \n",
    "        \n",
    "        \n",
    "class Triangle(Polygon):\n",
    "\n",
    "    def __init__(self, lengths_of_sides):\n",
    "        Polygon.__init__(self, 3)\n",
    "        self.lengths_of_sides = lengths_of_sides  # list of three numbers\n",
    "\n",
    "    def get_area(self):\n",
    "        '''return the area of the triangle using the semi-perimeter method'''\n",
    "        a, b, c = self.lengths_of_sides\n",
    "\n",
    "        # calculate the semi-perimeter\n",
    "        s = (a + b + c) / 2\n",
    "        return (s*(s-a)*(s-b)*(s-c)) ** 0.5\n",
    "    \n",
    "tri = Triangle([3, 4, 6])\n",
    "print(round(tri.get_area(),3))"
   ]
  },
  {
   "cell_type": "code",
   "execution_count": null,
   "metadata": {},
   "outputs": [],
   "source": []
  },
  {
   "cell_type": "markdown",
   "metadata": {},
   "source": [
    "Q.6 Write a function filter_long_words() that takes a list of words and an integer n and returns the list\n",
    "of words that are longer than n."
   ]
  },
  {
   "cell_type": "code",
   "execution_count": 13,
   "metadata": {
    "ExecuteTime": {
     "end_time": "2020-04-02T01:04:07.126880Z",
     "start_time": "2020-04-02T01:04:07.119858Z"
    }
   },
   "outputs": [
    {
     "data": {
      "text/plain": [
       "['Sachin', 'Ramesh', 'Tendulkar', 'Hanks']"
      ]
     },
     "execution_count": 13,
     "metadata": {},
     "output_type": "execute_result"
    }
   ],
   "source": [
    "def filter_long_words(input_list, n):\n",
    "    output = [x for x in input_list if len(x) > n]\n",
    "    return output\n",
    "\n",
    "req_output = filter_long_words(['Som', 'Sachin', 'Ramesh', 'Tendulkar', 'Tom', 'Hanks'], 3)\n",
    "req_output"
   ]
  },
  {
   "cell_type": "code",
   "execution_count": null,
   "metadata": {},
   "outputs": [],
   "source": []
  },
  {
   "cell_type": "markdown",
   "metadata": {},
   "source": [
    "Q.7 Write a Python program using function concept that maps list of words into a list of integers\n",
    "representing the lengths of the corresponding words.\n",
    "    \n",
    "    Hint: If a list [ ab,cde,erty] is passed on to the python function output should come as [2,3,4]\n",
    "    Here 2,3 and 4 are the lengths of the words in the list."
   ]
  },
  {
   "cell_type": "code",
   "execution_count": 8,
   "metadata": {
    "ExecuteTime": {
     "end_time": "2020-04-02T01:01:28.295770Z",
     "start_time": "2020-04-02T01:01:28.276692Z"
    }
   },
   "outputs": [
    {
     "data": {
      "text/plain": [
       "[2, 3, 4]"
      ]
     },
     "execution_count": 8,
     "metadata": {},
     "output_type": "execute_result"
    }
   ],
   "source": [
    "def question_7(input_list):\n",
    "    output = []\n",
    "    for item in input_list:\n",
    "        output.append(len(item))\n",
    "    return output\n",
    "        \n",
    "question_7([ 'ab','cde','erty'])"
   ]
  },
  {
   "cell_type": "code",
   "execution_count": null,
   "metadata": {},
   "outputs": [],
   "source": []
  },
  {
   "cell_type": "markdown",
   "metadata": {},
   "source": [
    "Q.8 Write a Python function which takes a character (i.e. a string of length 1) and returns True if it is\n",
    "a vowel, False otherwise."
   ]
  },
  {
   "cell_type": "code",
   "execution_count": 4,
   "metadata": {
    "ExecuteTime": {
     "end_time": "2020-04-02T00:59:38.032039Z",
     "start_time": "2020-04-02T00:59:37.009627Z"
    }
   },
   "outputs": [
    {
     "name": "stdout",
     "output_type": "stream",
     "text": [
      "enter a character to know if it is a vowel or not \n",
      "c\n",
      "the input is not a vowel\n"
     ]
    }
   ],
   "source": [
    "def question_8():\n",
    "    a_list = ['a','e', 'i', 'o', 'u']\n",
    "    b_word = str(input('enter a character to know if it is a vowel or not \\n'))\n",
    "\n",
    "    if b_word in a_list:\n",
    "        print('the input is a vowel')\n",
    "\n",
    "    else:\n",
    "        print('the input is not a vowel')\n",
    "        \n",
    "output = question_8()"
   ]
  },
  {
   "cell_type": "markdown",
   "metadata": {},
   "source": [
    "## Great job!"
   ]
  }
 ],
 "metadata": {
  "hide_input": false,
  "kernelspec": {
   "display_name": "Python 3",
   "language": "python",
   "name": "python3"
  },
  "language_info": {
   "codemirror_mode": {
    "name": "ipython",
    "version": 3
   },
   "file_extension": ".py",
   "mimetype": "text/x-python",
   "name": "python",
   "nbconvert_exporter": "python",
   "pygments_lexer": "ipython3",
   "version": "3.6.10"
  }
 },
 "nbformat": 4,
 "nbformat_minor": 2
}
