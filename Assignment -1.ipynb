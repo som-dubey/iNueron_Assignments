{
 "cells": [
  {
   "cell_type": "markdown",
   "metadata": {},
   "source": [
    "1. Write a program which will find all such numbers which are divisible by 7 but are not a multiple of 5, between 2000 and 3200 (both included). The numbers obtained should be printed in a comma-separated sequence on a single line. "
   ]
  },
  {
   "cell_type": "code",
   "execution_count": 1,
   "metadata": {
    "ExecuteTime": {
     "end_time": "2020-02-01T18:50:46.466786Z",
     "start_time": "2020-02-01T18:50:46.461023Z"
    }
   },
   "outputs": [],
   "source": [
    "nos_range = list(range(2000,3200+1))\n",
    "required_output = [x for x in nos_range if ((x%7 == 0) & (x%5 != 0))]"
   ]
  },
  {
   "cell_type": "code",
   "execution_count": 2,
   "metadata": {
    "ExecuteTime": {
     "end_time": "2020-02-01T18:50:46.492020Z",
     "start_time": "2020-02-01T18:50:46.470086Z"
    }
   },
   "outputs": [
    {
     "data": {
      "text/plain": [
       "1201"
      ]
     },
     "execution_count": 2,
     "metadata": {},
     "output_type": "execute_result"
    }
   ],
   "source": [
    "len(nos_range)"
   ]
  },
  {
   "cell_type": "code",
   "execution_count": 3,
   "metadata": {
    "ExecuteTime": {
     "end_time": "2020-02-01T18:50:46.505025Z",
     "start_time": "2020-02-01T18:50:46.495020Z"
    }
   },
   "outputs": [
    {
     "data": {
      "text/plain": [
       "2000"
      ]
     },
     "execution_count": 3,
     "metadata": {},
     "output_type": "execute_result"
    }
   ],
   "source": [
    "nos_range[0]"
   ]
  },
  {
   "cell_type": "code",
   "execution_count": 4,
   "metadata": {
    "ExecuteTime": {
     "end_time": "2020-02-01T18:50:46.518021Z",
     "start_time": "2020-02-01T18:50:46.507020Z"
    }
   },
   "outputs": [
    {
     "data": {
      "text/plain": [
       "3200"
      ]
     },
     "execution_count": 4,
     "metadata": {},
     "output_type": "execute_result"
    }
   ],
   "source": [
    "nos_range[-1]"
   ]
  },
  {
   "cell_type": "code",
   "execution_count": 5,
   "metadata": {
    "ExecuteTime": {
     "end_time": "2020-02-01T18:50:47.001103Z",
     "start_time": "2020-02-01T18:50:46.520162Z"
    },
    "scrolled": true
   },
   "outputs": [
    {
     "data": {
      "text/plain": [
       "array([2002, 2009, 2016, 2023, 2037, 2044, 2051, 2058, 2072, 2079, 2086,\n",
       "       2093, 2107, 2114, 2121, 2128, 2142, 2149, 2156, 2163, 2177, 2184,\n",
       "       2191, 2198, 2212, 2219, 2226, 2233, 2247, 2254, 2261, 2268, 2282,\n",
       "       2289, 2296, 2303, 2317, 2324, 2331, 2338, 2352, 2359, 2366, 2373,\n",
       "       2387, 2394, 2401, 2408, 2422, 2429, 2436, 2443, 2457, 2464, 2471,\n",
       "       2478, 2492, 2499, 2506, 2513, 2527, 2534, 2541, 2548, 2562, 2569,\n",
       "       2576, 2583, 2597, 2604, 2611, 2618, 2632, 2639, 2646, 2653, 2667,\n",
       "       2674, 2681, 2688, 2702, 2709, 2716, 2723, 2737, 2744, 2751, 2758,\n",
       "       2772, 2779, 2786, 2793, 2807, 2814, 2821, 2828, 2842, 2849, 2856,\n",
       "       2863, 2877, 2884, 2891, 2898, 2912, 2919, 2926, 2933, 2947, 2954,\n",
       "       2961, 2968, 2982, 2989, 2996, 3003, 3017, 3024, 3031, 3038, 3052,\n",
       "       3059, 3066, 3073, 3087, 3094, 3101, 3108, 3122, 3129, 3136, 3143,\n",
       "       3157, 3164, 3171, 3178, 3192, 3199])"
      ]
     },
     "execution_count": 5,
     "metadata": {},
     "output_type": "execute_result"
    }
   ],
   "source": [
    "import numpy as np\n",
    "np.array(required_output)"
   ]
  },
  {
   "cell_type": "markdown",
   "metadata": {},
   "source": [
    "2. Write a Python program to accept the user's first and last name and then getting them printed in the the reverse order with a space between first name and last name"
   ]
  },
  {
   "cell_type": "code",
   "execution_count": 6,
   "metadata": {
    "ExecuteTime": {
     "end_time": "2020-02-01T18:50:59.133723Z",
     "start_time": "2020-02-01T18:50:47.003021Z"
    }
   },
   "outputs": [
    {
     "name": "stdout",
     "output_type": "stream",
     "text": [
      "please provide your first name - \n",
      "Som\n",
      "please provide your last name - \n",
      "Dubey\n",
      "Hello Dubey Som, very Good Evening from iNueron!!!!\n"
     ]
    }
   ],
   "source": [
    "print('please provide your first name - ')\n",
    "first_name = input()\n",
    "print('please provide your last name - ')\n",
    "last_name = input()\n",
    "\n",
    "print('Hello {} {}, very Good Evening from iNueron!!!!'.format(last_name, first_name))"
   ]
  },
  {
   "cell_type": "code",
   "execution_count": null,
   "metadata": {},
   "outputs": [],
   "source": []
  },
  {
   "cell_type": "markdown",
   "metadata": {},
   "source": [
    "3.Write a Python program to find the volume of a sphere with diameter 12 cm.  \n",
    " \n",
    "Formula: V=4/3 * π * r 3 "
   ]
  },
  {
   "cell_type": "code",
   "execution_count": 7,
   "metadata": {
    "ExecuteTime": {
     "end_time": "2020-02-01T18:50:59.142726Z",
     "start_time": "2020-02-01T18:50:59.137727Z"
    }
   },
   "outputs": [
    {
     "name": "stdout",
     "output_type": "stream",
     "text": [
      "The volume is 905.14\n"
     ]
    }
   ],
   "source": [
    "diameter = 12\n",
    "radius = diameter/2\n",
    "volume = round((4/3) * (22/7) * radius**3, 2)\n",
    "print('The volume is', volume)"
   ]
  },
  {
   "cell_type": "code",
   "execution_count": null,
   "metadata": {},
   "outputs": [],
   "source": []
  },
  {
   "cell_type": "markdown",
   "metadata": {},
   "source": [
    "4.Write a program which accepts a sequence of comma-separated numbers from console and generate a list. "
   ]
  },
  {
   "cell_type": "code",
   "execution_count": 8,
   "metadata": {
    "ExecuteTime": {
     "end_time": "2020-02-01T18:51:11.778714Z",
     "start_time": "2020-02-01T18:50:59.145833Z"
    }
   },
   "outputs": [
    {
     "name": "stdout",
     "output_type": "stream",
     "text": [
      "Input the comma separated numbers - \n",
      "1,2,3,4,5,6,7,8,9,10\n",
      "['1', '2', '3', '4', '5', '6', '7', '8', '9', '1', '0']\n",
      "the type of the provided input is-  <class 'list'>\n"
     ]
    }
   ],
   "source": [
    "print('Input the comma separated numbers - ')\n",
    "input_list = input()\n",
    "input_list = input_list.replace(',', '')\n",
    "input_list = list(input_list)\n",
    "print(input_list)\n",
    "print('the type of the provided input is- ', type(input_list))"
   ]
  },
  {
   "cell_type": "code",
   "execution_count": null,
   "metadata": {},
   "outputs": [],
   "source": []
  },
  {
   "cell_type": "code",
   "execution_count": null,
   "metadata": {},
   "outputs": [],
   "source": []
  },
  {
   "cell_type": "raw",
   "metadata": {},
   "source": [
    "5. Create the below pattern using nested for loop in Python. \n",
    " \n",
    " \n",
    "*  \n",
    "* *  \n",
    "* * * \n",
    "* * * *  \n",
    "* * * * *  \n",
    "* * * *  \n",
    "* * *  \n",
    "* *  \n",
    "* \n",
    " \n",
    " "
   ]
  },
  {
   "cell_type": "code",
   "execution_count": 9,
   "metadata": {
    "ExecuteTime": {
     "end_time": "2020-02-01T18:51:11.794654Z",
     "start_time": "2020-02-01T18:51:11.780653Z"
    }
   },
   "outputs": [
    {
     "name": "stdout",
     "output_type": "stream",
     "text": [
      "For nested condition - \n",
      "* \n",
      "* * \n",
      "* * * \n",
      "* * * * \n",
      "* * * * * \n",
      "* * * * \n",
      "* * * \n",
      "* * \n",
      "* \n",
      "\n",
      "\n",
      "\n",
      "\n",
      "For non-nested condition - \n",
      "* \n",
      "* * \n",
      "* * * \n",
      "* * * * \n",
      "* * * * * \n",
      "* * * * \n",
      "* * * \n",
      "* * \n",
      "* \n"
     ]
    }
   ],
   "source": [
    "# for nested condtion-\n",
    "print('For nested condition - ')\n",
    "k = '* '\n",
    "for i in range(1,10):\n",
    "    if i < 6:\n",
    "        print(k * i)\n",
    "    else:\n",
    "        for j in range(4,0,-1):\n",
    "            print(k * j)\n",
    "        break\n",
    "    \n",
    "print('\\n')\n",
    "print('\\n')\n",
    "        \n",
    "\n",
    "\n",
    "# for non-nested condition-\n",
    "print('For non-nested condition - ')\n",
    "k = '* '\n",
    "for i in range (1,6):\n",
    "    print(k * i)\n",
    "for j in range(4,0,-1):\n",
    "    print(k * j)\n",
    "        "
   ]
  },
  {
   "cell_type": "code",
   "execution_count": null,
   "metadata": {},
   "outputs": [],
   "source": []
  },
  {
   "cell_type": "markdown",
   "metadata": {},
   "source": [
    "6. Write a Python program to reverse a word after accepting the input from the user. \n",
    " \n",
    "Sample Output: \n",
    " \n",
    "Input word: iNeuron \n",
    " \n",
    "Output: norueNi"
   ]
  },
  {
   "cell_type": "markdown",
   "metadata": {},
   "source": [
    "### Approach 1"
   ]
  },
  {
   "cell_type": "code",
   "execution_count": 10,
   "metadata": {
    "ExecuteTime": {
     "end_time": "2020-02-01T18:51:24.749901Z",
     "start_time": "2020-02-01T18:51:11.797754Z"
    }
   },
   "outputs": [
    {
     "name": "stdout",
     "output_type": "stream",
     "text": [
      "Please input the word- \n",
      "iNueron is the best!!!\n",
      "The reverse of the input word is !!!tseb eht si noreuNi\n"
     ]
    }
   ],
   "source": [
    "# iNueron is the best!!!\n",
    "print('Please input the word- ')\n",
    "input_word = input()\n",
    "output_word =''\n",
    "\n",
    "for i in input_word:\n",
    "    output_word = i + output_word\n",
    "print('The reverse of the input word is', output_word)"
   ]
  },
  {
   "cell_type": "markdown",
   "metadata": {},
   "source": [
    "### Approach 2"
   ]
  },
  {
   "cell_type": "code",
   "execution_count": 11,
   "metadata": {
    "ExecuteTime": {
     "end_time": "2020-02-01T18:51:44.601242Z",
     "start_time": "2020-02-01T18:51:24.751857Z"
    }
   },
   "outputs": [
    {
     "name": "stdout",
     "output_type": "stream",
     "text": [
      "Please input the word- \n",
      "iNueron is the best!!!\n",
      "!!!tseb eht si noreuNi\n"
     ]
    }
   ],
   "source": [
    "# iNueron is the best!!!\n",
    "print('Please input the word- ')\n",
    "input_word = str(input())\n",
    "print(input_word[::-1])"
   ]
  },
  {
   "cell_type": "code",
   "execution_count": null,
   "metadata": {},
   "outputs": [],
   "source": []
  },
  {
   "cell_type": "markdown",
   "metadata": {},
   "source": [
    "7. Write a Python Program to print the given string in the format specified in the ​sample output. \n",
    " WE, THE PEOPLE OF INDIA, having solemnly resolved to constitute India into a SOVEREIGN, SOCIALIST, SECULAR, DEMOCRATIC REPUBLIC and to secure to all its citizens \n",
    " \n",
    "Sample Output: \n",
    " \n",
    "WE, THE PEOPLE OF INDIA,   having solemnly resolved to constitute India into a SOVEREIGN, !  SOCIALIST, SECULAR, DEMOCRATIC REPUBLIC    and to secure to all its citizens "
   ]
  },
  {
   "cell_type": "code",
   "execution_count": null,
   "metadata": {
    "ExecuteTime": {
     "end_time": "2020-02-01T17:37:15.636311Z",
     "start_time": "2020-02-01T17:37:15.633312Z"
    }
   },
   "outputs": [],
   "source": []
  },
  {
   "cell_type": "code",
   "execution_count": 12,
   "metadata": {
    "ExecuteTime": {
     "end_time": "2020-02-01T18:51:44.612241Z",
     "start_time": "2020-02-01T18:51:44.603240Z"
    }
   },
   "outputs": [
    {
     "data": {
      "text/plain": [
       "'WE, THE PEOPLE OF INDIA, having solemnly resolved to constitute India into a SOVEREIGN, ! SOCIALIST, SECULAR, DEMOCRATIC REPUBLIC and to secure to all its citizens'"
      ]
     },
     "execution_count": 12,
     "metadata": {},
     "output_type": "execute_result"
    }
   ],
   "source": [
    "# Using REGEX\n",
    "\n",
    "import re\n",
    "ouput_required = 'WE, THE PEOPLE OF INDIA, having solemnly resolved to constitute India \\\n",
    "into a SOVEREIGN, SOCIALIST, SECULAR, DEMOCRATIC REPUBLIC and to secure to all its citizens'\n",
    "re.sub(r'(SOCIALIST)', r'! \\1', ouput_required)"
   ]
  },
  {
   "cell_type": "code",
   "execution_count": 13,
   "metadata": {
    "ExecuteTime": {
     "end_time": "2020-02-01T18:51:44.641244Z",
     "start_time": "2020-02-01T18:51:44.615241Z"
    }
   },
   "outputs": [
    {
     "name": "stdout",
     "output_type": "stream",
     "text": [
      "WE, THE PEOPLE OF INDIA, having solemnly resolved to constitute India into a SOVEREIGN, ! SOCIALIST, SECULAR, DEMOCRATIC REPUBLIC and to secure to all its citizens\n"
     ]
    }
   ],
   "source": [
    "# using format mehtod\n",
    "\n",
    "\n",
    "print('WE, THE PEOPLE OF INDIA, having solemnly resolved to constitute India \\\n",
    "into a SOVEREIGN, {}SOCIALIST, SECULAR, DEMOCRATIC REPUBLIC and to secure to all its citizens'.format('! '))"
   ]
  },
  {
   "cell_type": "markdown",
   "metadata": {},
   "source": [
    "Note : - NOTE:​ ​The​ ​solution​ ​shared​ ​through​ ​Github​ ​should​ ​contain​ ​the​ ​source code​ ​used​ ​ and​  ​the​ ​output"
   ]
  },
  {
   "cell_type": "code",
   "execution_count": null,
   "metadata": {},
   "outputs": [],
   "source": []
  }
 ],
 "metadata": {
  "hide_input": false,
  "kernelspec": {
   "display_name": "Python 3",
   "language": "python",
   "name": "python3"
  },
  "language_info": {
   "codemirror_mode": {
    "name": "ipython",
    "version": 3
   },
   "file_extension": ".py",
   "mimetype": "text/x-python",
   "name": "python",
   "nbconvert_exporter": "python",
   "pygments_lexer": "ipython3",
   "version": "3.6.10"
  }
 },
 "nbformat": 4,
 "nbformat_minor": 2
}
